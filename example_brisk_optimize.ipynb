{
 "cells": [
  {
   "cell_type": "markdown",
   "metadata": {},
   "source": [
    "An example of how the brisk solution calculates the group of ids who have the most points and a cost below or equal to the test_salary.\n",
    "\n",
    "This is the second part of the optimization, where we've already merged the individual positions, which is why you'll see there are more than one index for each position we're combining."
   ]
  },
  {
   "cell_type": "markdown",
   "metadata": {},
   "source": [
    "The ids refer to some way to know which players have these values. In the code, this is the id for the player in the Pandas DataFrame in which we read the csv file. At the end, when we have those ids, we can check with the DataFrame to get the names of the players."
   ]
  },
  {
   "cell_type": "code",
   "execution_count": 1,
   "metadata": {},
   "outputs": [
    {
     "data": {
      "text/html": [
       "<div>\n",
       "<style scoped>\n",
       "    .dataframe tbody tr th:only-of-type {\n",
       "        vertical-align: middle;\n",
       "    }\n",
       "\n",
       "    .dataframe tbody tr th {\n",
       "        vertical-align: top;\n",
       "    }\n",
       "\n",
       "    .dataframe thead th {\n",
       "        text-align: right;\n",
       "    }\n",
       "</style>\n",
       "<table border=\"1\" class=\"dataframe\">\n",
       "  <thead>\n",
       "    <tr style=\"text-align: right;\">\n",
       "      <th></th>\n",
       "      <th>ids</th>\n",
       "      <th>sal</th>\n",
       "      <th>pts</th>\n",
       "      <th>pos</th>\n",
       "    </tr>\n",
       "  </thead>\n",
       "  <tbody>\n",
       "    <tr>\n",
       "      <th>0</th>\n",
       "      <td>[0, 4]</td>\n",
       "      <td>5</td>\n",
       "      <td>3</td>\n",
       "      <td>PG</td>\n",
       "    </tr>\n",
       "    <tr>\n",
       "      <th>1</th>\n",
       "      <td>[1, 5]</td>\n",
       "      <td>7</td>\n",
       "      <td>5</td>\n",
       "      <td>PG</td>\n",
       "    </tr>\n",
       "    <tr>\n",
       "      <th>2</th>\n",
       "      <td>[2, 6]</td>\n",
       "      <td>8</td>\n",
       "      <td>6</td>\n",
       "      <td>PG</td>\n",
       "    </tr>\n",
       "    <tr>\n",
       "      <th>3</th>\n",
       "      <td>[3, 7]</td>\n",
       "      <td>9</td>\n",
       "      <td>7</td>\n",
       "      <td>PG</td>\n",
       "    </tr>\n",
       "    <tr>\n",
       "      <th>4</th>\n",
       "      <td>[8, 13]</td>\n",
       "      <td>2</td>\n",
       "      <td>2</td>\n",
       "      <td>SG</td>\n",
       "    </tr>\n",
       "    <tr>\n",
       "      <th>5</th>\n",
       "      <td>[9, 14]</td>\n",
       "      <td>3</td>\n",
       "      <td>4</td>\n",
       "      <td>SG</td>\n",
       "    </tr>\n",
       "    <tr>\n",
       "      <th>6</th>\n",
       "      <td>[10, 15]</td>\n",
       "      <td>5</td>\n",
       "      <td>6</td>\n",
       "      <td>SG</td>\n",
       "    </tr>\n",
       "    <tr>\n",
       "      <th>7</th>\n",
       "      <td>[11, 16]</td>\n",
       "      <td>6</td>\n",
       "      <td>6</td>\n",
       "      <td>SG</td>\n",
       "    </tr>\n",
       "    <tr>\n",
       "      <th>8</th>\n",
       "      <td>[12, 17]</td>\n",
       "      <td>8</td>\n",
       "      <td>7</td>\n",
       "      <td>SG</td>\n",
       "    </tr>\n",
       "  </tbody>\n",
       "</table>\n",
       "</div>"
      ],
      "text/plain": [
       "        ids  sal  pts pos\n",
       "0    [0, 4]    5    3  PG\n",
       "1    [1, 5]    7    5  PG\n",
       "2    [2, 6]    8    6  PG\n",
       "3    [3, 7]    9    7  PG\n",
       "4   [8, 13]    2    2  SG\n",
       "5   [9, 14]    3    4  SG\n",
       "6  [10, 15]    5    6  SG\n",
       "7  [11, 16]    6    6  SG\n",
       "8  [12, 17]    8    7  SG"
      ]
     },
     "execution_count": 1,
     "metadata": {},
     "output_type": "execute_result"
    }
   ],
   "source": [
    "import numpy as np\n",
    "import pandas as pd\n",
    "import ast #used for conversion of the id list pandas is reading\n",
    "df = pd.read_csv('vals.csv', converters={0:lambda x: ast.literal_eval(x)})\n",
    "df"
   ]
  },
  {
   "cell_type": "code",
   "execution_count": 2,
   "metadata": {},
   "outputs": [
    {
     "data": {
      "text/html": [
       "<div>\n",
       "<style scoped>\n",
       "    .dataframe tbody tr th:only-of-type {\n",
       "        vertical-align: middle;\n",
       "    }\n",
       "\n",
       "    .dataframe tbody tr th {\n",
       "        vertical-align: top;\n",
       "    }\n",
       "\n",
       "    .dataframe thead th {\n",
       "        text-align: right;\n",
       "    }\n",
       "</style>\n",
       "<table border=\"1\" class=\"dataframe\">\n",
       "  <thead>\n",
       "    <tr style=\"text-align: right;\">\n",
       "      <th></th>\n",
       "      <th>ids</th>\n",
       "      <th>sal</th>\n",
       "      <th>pts</th>\n",
       "      <th>pos</th>\n",
       "    </tr>\n",
       "  </thead>\n",
       "  <tbody>\n",
       "    <tr>\n",
       "      <th>0</th>\n",
       "      <td>[0, 4]</td>\n",
       "      <td>5</td>\n",
       "      <td>3</td>\n",
       "      <td>PG</td>\n",
       "    </tr>\n",
       "    <tr>\n",
       "      <th>1</th>\n",
       "      <td>[1, 5]</td>\n",
       "      <td>7</td>\n",
       "      <td>5</td>\n",
       "      <td>PG</td>\n",
       "    </tr>\n",
       "    <tr>\n",
       "      <th>2</th>\n",
       "      <td>[2, 6]</td>\n",
       "      <td>8</td>\n",
       "      <td>6</td>\n",
       "      <td>PG</td>\n",
       "    </tr>\n",
       "    <tr>\n",
       "      <th>3</th>\n",
       "      <td>[3, 7]</td>\n",
       "      <td>9</td>\n",
       "      <td>7</td>\n",
       "      <td>PG</td>\n",
       "    </tr>\n",
       "  </tbody>\n",
       "</table>\n",
       "</div>"
      ],
      "text/plain": [
       "      ids  sal  pts pos\n",
       "0  [0, 4]    5    3  PG\n",
       "1  [1, 5]    7    5  PG\n",
       "2  [2, 6]    8    6  PG\n",
       "3  [3, 7]    9    7  PG"
      ]
     },
     "execution_count": 2,
     "metadata": {},
     "output_type": "execute_result"
    }
   ],
   "source": [
    "pgdf = df[df.pos=='PG']\n",
    "pgdf"
   ]
  },
  {
   "cell_type": "code",
   "execution_count": 3,
   "metadata": {},
   "outputs": [
    {
     "data": {
      "text/html": [
       "<div>\n",
       "<style scoped>\n",
       "    .dataframe tbody tr th:only-of-type {\n",
       "        vertical-align: middle;\n",
       "    }\n",
       "\n",
       "    .dataframe tbody tr th {\n",
       "        vertical-align: top;\n",
       "    }\n",
       "\n",
       "    .dataframe thead th {\n",
       "        text-align: right;\n",
       "    }\n",
       "</style>\n",
       "<table border=\"1\" class=\"dataframe\">\n",
       "  <thead>\n",
       "    <tr style=\"text-align: right;\">\n",
       "      <th></th>\n",
       "      <th>ids</th>\n",
       "      <th>sal</th>\n",
       "      <th>pts</th>\n",
       "      <th>pos</th>\n",
       "    </tr>\n",
       "  </thead>\n",
       "  <tbody>\n",
       "    <tr>\n",
       "      <th>4</th>\n",
       "      <td>[8, 13]</td>\n",
       "      <td>2</td>\n",
       "      <td>2</td>\n",
       "      <td>SG</td>\n",
       "    </tr>\n",
       "    <tr>\n",
       "      <th>5</th>\n",
       "      <td>[9, 14]</td>\n",
       "      <td>3</td>\n",
       "      <td>4</td>\n",
       "      <td>SG</td>\n",
       "    </tr>\n",
       "    <tr>\n",
       "      <th>6</th>\n",
       "      <td>[10, 15]</td>\n",
       "      <td>5</td>\n",
       "      <td>6</td>\n",
       "      <td>SG</td>\n",
       "    </tr>\n",
       "    <tr>\n",
       "      <th>7</th>\n",
       "      <td>[11, 16]</td>\n",
       "      <td>6</td>\n",
       "      <td>6</td>\n",
       "      <td>SG</td>\n",
       "    </tr>\n",
       "    <tr>\n",
       "      <th>8</th>\n",
       "      <td>[12, 17]</td>\n",
       "      <td>8</td>\n",
       "      <td>7</td>\n",
       "      <td>SG</td>\n",
       "    </tr>\n",
       "  </tbody>\n",
       "</table>\n",
       "</div>"
      ],
      "text/plain": [
       "        ids  sal  pts pos\n",
       "4   [8, 13]    2    2  SG\n",
       "5   [9, 14]    3    4  SG\n",
       "6  [10, 15]    5    6  SG\n",
       "7  [11, 16]    6    6  SG\n",
       "8  [12, 17]    8    7  SG"
      ]
     },
     "execution_count": 3,
     "metadata": {},
     "output_type": "execute_result"
    }
   ],
   "source": [
    "sgdf = df[df.pos=='SG']\n",
    "sgdf"
   ]
  },
  {
   "cell_type": "code",
   "execution_count": 4,
   "metadata": {},
   "outputs": [
    {
     "name": "stdout",
     "output_type": "stream",
     "text": [
      "Ids: [[0 4]\n",
      " [1 5]\n",
      " [2 6]\n",
      " [3 7]]\n",
      "Salaries: [5 7 8 9]\n",
      "Points: [3 5 6 7]\n"
     ]
    }
   ],
   "source": [
    "pgids = np.array(pgdf.ids.tolist())\n",
    "pgsals = np.array(pgdf.sal.tolist())\n",
    "pgpts = np.array(pgdf.pts.tolist())\n",
    "print(\"Ids:\", pgids)\n",
    "print(\"Salaries:\", pgsals)\n",
    "print(\"Points:\", pgpts)"
   ]
  },
  {
   "cell_type": "markdown",
   "metadata": {},
   "source": [
    "What you'll see here is that I zip up the values again, which is the same as the basic solution. The reason for this is because that's how the data is started as when we try to merge the positions in the brisk solution here."
   ]
  },
  {
   "cell_type": "code",
   "execution_count": 5,
   "metadata": {},
   "outputs": [
    {
     "name": "stdout",
     "output_type": "stream",
     "text": [
      "PG Ids: [[0, 4], [1, 5], [2, 6], [3, 7]]\n",
      "PG Salaries: [5, 7, 8, 9]\n",
      "PG Points: [3, 5, 6, 7]\n",
      "PG Zipped: [(5, 3, [0, 4]), (7, 5, [1, 5]), (8, 6, [2, 6]), (9, 7, [3, 7])]\n"
     ]
    }
   ],
   "source": [
    "pgids_list = pgdf.ids.tolist()\n",
    "pgsals_list = pgdf.sal.tolist()\n",
    "pgpts_list = pgdf.pts.tolist()\n",
    "pgs_list = list(zip(pgsals_list, pgpts_list, pgids_list))\n",
    "print(\"PG Ids:\", pgids_list)\n",
    "print(\"PG Salaries:\", pgsals_list)\n",
    "print(\"PG Points:\", pgpts_list)\n",
    "print(\"PG Zipped:\", pgs_list)"
   ]
  },
  {
   "cell_type": "code",
   "execution_count": 6,
   "metadata": {},
   "outputs": [
    {
     "name": "stdout",
     "output_type": "stream",
     "text": [
      "SG Ids: [[8, 13], [9, 14], [10, 15], [11, 16], [12, 17]]\n",
      "SG Salaries: [2, 3, 5, 6, 8]\n",
      "SG Points: [2, 4, 6, 6, 7]\n",
      "SG Zipped: [(2, 2, [8, 13]), (3, 4, [9, 14]), (5, 6, [10, 15]), (6, 6, [11, 16]), (8, 7, [12, 17])]\n"
     ]
    }
   ],
   "source": [
    "sgids_list = sgdf.ids.tolist()\n",
    "sgsals_list = sgdf.sal.tolist()\n",
    "sgpts_list = sgdf.pts.tolist()\n",
    "sgs_list = list(zip(sgsals_list, sgpts_list, sgids_list))\n",
    "print(\"SG Ids:\", sgids_list)\n",
    "print(\"SG Salaries:\", sgsals_list)\n",
    "print(\"SG Points:\", sgpts_list)\n",
    "print(\"SG Zipped:\", sgs_list)"
   ]
  },
  {
   "cell_type": "markdown",
   "metadata": {},
   "source": [
    "These next two lines, where we take the values from the lists and make them into `np.array`s is because that's what the brisk_solution needs to do. If you read the post, you'll see that this is a huge slowdown for brisk.\n",
    "\n",
    "I feel it's important to keep in mind that when taking a solution, like the basic one, and making it faster, it won't happen all at once. When modifying basic into brisk, I knew this was going to be slow and that I should change the data. But before that, there was more important work to do, which was removing the for loops. When moving to the fast solution, which you'll see next, you'll note that I don't do this."
   ]
  },
  {
   "cell_type": "code",
   "execution_count": 7,
   "metadata": {},
   "outputs": [
    {
     "name": "stdout",
     "output_type": "stream",
     "text": [
      "PG Ids: [[0 4]\n",
      " [1 5]\n",
      " [2 6]\n",
      " [3 7]]\n",
      "PG Salaries: [5 7 8 9]\n",
      "PG Points: [3 5 6 7]\n"
     ]
    }
   ],
   "source": [
    "pgsals = np.array([sal for sal,_,_ in pgs_list])\n",
    "pgpts = np.array([pts for _,pts,_ in pgs_list])\n",
    "pgids = np.array([ind for _,_,ind in pgs_list])\n",
    "print(\"PG Ids:\", pgids)\n",
    "print(\"PG Salaries:\", pgsals)\n",
    "print(\"PG Points:\", pgpts)"
   ]
  },
  {
   "cell_type": "code",
   "execution_count": 8,
   "metadata": {},
   "outputs": [
    {
     "name": "stdout",
     "output_type": "stream",
     "text": [
      "SG Ids: [[ 8 13]\n",
      " [ 9 14]\n",
      " [10 15]\n",
      " [11 16]\n",
      " [12 17]]\n",
      "SG Salaries: [2 3 5 6 8]\n",
      "SG Points: [2 4 6 6 7]\n"
     ]
    }
   ],
   "source": [
    "sgsals = np.array([sal for sal,_,_ in sgs_list])\n",
    "sgpts = np.array([pts for _,pts,_ in sgs_list])\n",
    "sgids = np.array([ind for _,_,ind in sgs_list])\n",
    "\n",
    "print(\"SG Ids:\", sgids)\n",
    "print(\"SG Salaries:\", sgsals)\n",
    "print(\"SG Points:\", sgpts)"
   ]
  },
  {
   "cell_type": "markdown",
   "metadata": {},
   "source": [
    "Now we're goign to combine the salary and points arrays into a 2d matrix which has the sums of all the combinations together. If you pick and `(x,y)` value, such as `(0,3)`, with the salary of 11, you'll have 9 points."
   ]
  },
  {
   "cell_type": "code",
   "execution_count": 9,
   "metadata": {},
   "outputs": [
    {
     "data": {
      "text/plain": [
       "array([[ 7,  8, 10, 11, 13],\n",
       "       [ 9, 10, 12, 13, 15],\n",
       "       [10, 11, 13, 14, 16],\n",
       "       [11, 12, 14, 15, 17]])"
      ]
     },
     "execution_count": 9,
     "metadata": {},
     "output_type": "execute_result"
    }
   ],
   "source": [
    "full_sals = pgsals[:,np.newaxis] + sgsals\n",
    "full_sals"
   ]
  },
  {
   "cell_type": "code",
   "execution_count": 10,
   "metadata": {},
   "outputs": [
    {
     "data": {
      "text/plain": [
       "array([[ 5,  7,  9,  9, 10],\n",
       "       [ 7,  9, 11, 11, 12],\n",
       "       [ 8, 10, 12, 12, 13],\n",
       "       [ 9, 11, 13, 13, 14]])"
      ]
     },
     "execution_count": 10,
     "metadata": {},
     "output_type": "execute_result"
    }
   ],
   "source": [
    "full_points = pgpts[:,np.newaxis] + sgpts\n",
    "full_points"
   ]
  },
  {
   "cell_type": "code",
   "execution_count": 11,
   "metadata": {},
   "outputs": [],
   "source": [
    "test_salary = 11"
   ]
  },
  {
   "cell_type": "code",
   "execution_count": 12,
   "metadata": {},
   "outputs": [
    {
     "data": {
      "text/plain": [
       "array([[ True,  True,  True,  True, False],\n",
       "       [ True,  True, False, False, False],\n",
       "       [ True,  True, False, False, False],\n",
       "       [ True, False, False, False, False]])"
      ]
     },
     "execution_count": 12,
     "metadata": {},
     "output_type": "execute_result"
    }
   ],
   "source": [
    "valids = full_sals <= test_salary #groupings that are correct with the\n",
    "valids"
   ]
  },
  {
   "cell_type": "markdown",
   "metadata": {},
   "source": [
    "With numpy, a True / False arary is also a 1 / 0 array, so when we multiply the two together, we get zeros."
   ]
  },
  {
   "cell_type": "code",
   "execution_count": 13,
   "metadata": {},
   "outputs": [
    {
     "data": {
      "text/plain": [
       "array([[ 5,  7,  9,  9,  0],\n",
       "       [ 7,  9,  0,  0,  0],\n",
       "       [ 8, 10,  0,  0,  0],\n",
       "       [ 9,  0,  0,  0,  0]])"
      ]
     },
     "execution_count": 13,
     "metadata": {},
     "output_type": "execute_result"
    }
   ],
   "source": [
    "possibilities = full_points * valids\n",
    "possibilities"
   ]
  },
  {
   "cell_type": "code",
   "execution_count": 14,
   "metadata": {},
   "outputs": [
    {
     "data": {
      "text/plain": [
       "(2, 1)"
      ]
     },
     "execution_count": 14,
     "metadata": {},
     "output_type": "execute_result"
    }
   ],
   "source": [
    "x, y = np.unravel_index(possibilities.argmax(), possibilities.shape)\n",
    "x, y #x #refers to index of ids, y refers to index of ids2"
   ]
  },
  {
   "cell_type": "markdown",
   "metadata": {},
   "source": [
    "From the possibilities matrix, we can see that the top points that are valid according to the salary to get those points is 10. Based on how the `full_sals` and `full_points` matricies were created, the ids for this value are calculated with the `top_players` line below."
   ]
  },
  {
   "cell_type": "code",
   "execution_count": 15,
   "metadata": {},
   "outputs": [],
   "source": [
    "top_points = full_points[x][y]\n",
    "top_sals = full_sals[x][y]\n",
    "top_players = np.concatenate([pgids[x], sgids[y]])"
   ]
  },
  {
   "cell_type": "code",
   "execution_count": 16,
   "metadata": {},
   "outputs": [
    {
     "name": "stdout",
     "output_type": "stream",
     "text": [
      "Top players: [ 2  6  9 14]\n",
      "Top points: 10\n",
      "Combined salaries: 11\n"
     ]
    }
   ],
   "source": [
    "print(\"Top players:\", top_players)\n",
    "print(\"Top points:\", top_points)\n",
    "print(\"Combined salaries:\", top_sals)"
   ]
  }
 ],
 "metadata": {
  "kernelspec": {
   "display_name": "Python 3",
   "language": "python",
   "name": "python3"
  },
  "language_info": {
   "codemirror_mode": {
    "name": "ipython",
    "version": 3
   },
   "file_extension": ".py",
   "mimetype": "text/x-python",
   "name": "python",
   "nbconvert_exporter": "python",
   "pygments_lexer": "ipython3",
   "version": "3.7.0"
  }
 },
 "nbformat": 4,
 "nbformat_minor": 2
}
