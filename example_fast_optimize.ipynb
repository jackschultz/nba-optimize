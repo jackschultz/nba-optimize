{
 "cells": [
  {
   "cell_type": "markdown",
   "metadata": {},
   "source": [
    "A general overview and code of how the merging of the calculated points goes.\n",
    "\n",
    "For the two groupings we're merging, the first, varaibles with no number at the end, we have 3 parings of ids where we have the information of their combined cost and combined points. For the second group, variables that end in `2`, there are four groups of ids, costs, and points. We're working in deminsions here, so it's important to keep in mind that as long as the indicies of the values associated with the people are legal, then we're good."
   ]
  },
  {
   "cell_type": "code",
   "execution_count": 4,
   "metadata": {},
   "outputs": [],
   "source": [
    "import numpy as np\n",
    "import itertools"
   ]
  },
  {
   "cell_type": "code",
   "execution_count": 13,
   "metadata": {},
   "outputs": [
    {
     "data": {
      "text/plain": [
       "array([[0, 3],\n",
       "       [1, 4],\n",
       "       [2, 5]])"
      ]
     },
     "execution_count": 13,
     "metadata": {},
     "output_type": "execute_result"
    }
   ],
   "source": [
    "ids = np.array([np.arange(3), np.arange(3) + 3]).T #ids.shape == (3,2)\n",
    "ids"
   ]
  },
  {
   "cell_type": "code",
   "execution_count": 14,
   "metadata": {},
   "outputs": [
    {
     "data": {
      "text/plain": [
       "array([[ 6, 10],\n",
       "       [ 7, 11],\n",
       "       [ 8, 12],\n",
       "       [ 9, 13]])"
      ]
     },
     "execution_count": 14,
     "metadata": {},
     "output_type": "execute_result"
    }
   ],
   "source": [
    "ids2 = np.array([np.arange(4) + 6, np.arange(4) + 10]).T #ids2.shape == (4,2)\n",
    "ids2"
   ]
  },
  {
   "cell_type": "code",
   "execution_count": 62,
   "metadata": {},
   "outputs": [
    {
     "data": {
      "text/plain": [
       "array([[ 0,  3,  6, 10],\n",
       "       [ 0,  3,  7, 11],\n",
       "       [ 0,  3,  8, 12],\n",
       "       [ 0,  3,  9, 13],\n",
       "       [ 1,  4,  6, 10],\n",
       "       [ 1,  4,  7, 11],\n",
       "       [ 1,  4,  8, 12],\n",
       "       [ 1,  4,  9, 13],\n",
       "       [ 2,  5,  6, 10],\n",
       "       [ 2,  5,  7, 11],\n",
       "       [ 2,  5,  8, 12],\n",
       "       [ 2,  5,  9, 13]])"
      ]
     },
     "execution_count": 62,
     "metadata": {},
     "output_type": "execute_result"
    }
   ],
   "source": [
    "ids_comb = np.array([np.concatenate((x,y)) for x,y in list(itertools.product(ids, ids2))])\n",
    "ids_comb"
   ]
  },
  {
   "cell_type": "markdown",
   "metadata": {},
   "source": [
    "`costs` and `costs2` variables are created with random numbers insequential order"
   ]
  },
  {
   "cell_type": "code",
   "execution_count": 5,
   "metadata": {},
   "outputs": [
    {
     "data": {
      "text/plain": [
       "array([5, 7, 9])"
      ]
     },
     "execution_count": 5,
     "metadata": {},
     "output_type": "execute_result"
    }
   ],
   "source": [
    "costs = np.array([5,7,9])\n",
    "costs"
   ]
  },
  {
   "cell_type": "code",
   "execution_count": 32,
   "metadata": {},
   "outputs": [
    {
     "data": {
      "text/plain": [
       "array([2, 3, 5, 8])"
      ]
     },
     "execution_count": 32,
     "metadata": {},
     "output_type": "execute_result"
    }
   ],
   "source": [
    "costs2 = np.array([2,3,5,8])\n",
    "costs2"
   ]
  },
  {
   "cell_type": "markdown",
   "metadata": {},
   "source": [
    "We can see that the array below has all the different ways we can combined those cost numbers"
   ]
  },
  {
   "cell_type": "code",
   "execution_count": 7,
   "metadata": {},
   "outputs": [
    {
     "data": {
      "text/plain": [
       "array([[5, 2],\n",
       "       [5, 3],\n",
       "       [5, 5],\n",
       "       [5, 8],\n",
       "       [7, 2],\n",
       "       [7, 3],\n",
       "       [7, 5],\n",
       "       [7, 8],\n",
       "       [9, 2],\n",
       "       [9, 3],\n",
       "       [9, 5],\n",
       "       [9, 8]])"
      ]
     },
     "execution_count": 7,
     "metadata": {},
     "output_type": "execute_result"
    }
   ],
   "source": [
    "cost_comb = np.array(list(itertools.product(costs, costs2)))\n",
    "cost_comb"
   ]
  },
  {
   "cell_type": "code",
   "execution_count": null,
   "metadata": {},
   "outputs": [],
   "source": [
    "And now we can see that those values have been added together. Now we know the complete cost of those players"
   ]
  },
  {
   "cell_type": "code",
   "execution_count": 8,
   "metadata": {},
   "outputs": [
    {
     "data": {
      "text/plain": [
       "array([ 7,  8, 10, 13,  9, 10, 12, 15, 11, 12, 14, 17])"
      ]
     },
     "execution_count": 8,
     "metadata": {},
     "output_type": "execute_result"
    }
   ],
   "source": [
    "cost_sum = cost_comb.sum(axis=1)\n",
    "cost_sum"
   ]
  },
  {
   "cell_type": "code",
   "execution_count": 9,
   "metadata": {},
   "outputs": [
    {
     "data": {
      "text/plain": [
       "array([3, 4, 6])"
      ]
     },
     "execution_count": 9,
     "metadata": {},
     "output_type": "execute_result"
    }
   ],
   "source": [
    "points = np.array([3,4,6])\n",
    "points"
   ]
  },
  {
   "cell_type": "code",
   "execution_count": 10,
   "metadata": {},
   "outputs": [
    {
     "data": {
      "text/plain": [
       "array([2, 4, 6, 7])"
      ]
     },
     "execution_count": 10,
     "metadata": {},
     "output_type": "execute_result"
    }
   ],
   "source": [
    "points2 = np.array([2,4,6,7])\n",
    "points2"
   ]
  },
  {
   "cell_type": "markdown",
   "metadata": {},
   "source": [
    "Like above, were calculating the product of the `points` and `points2` variables. Key point is that `itertools.product` returns the values in the same order. If that wasn't the case, this fails."
   ]
  },
  {
   "cell_type": "code",
   "execution_count": 11,
   "metadata": {},
   "outputs": [
    {
     "data": {
      "text/plain": [
       "array([[3, 2],\n",
       "       [3, 4],\n",
       "       [3, 6],\n",
       "       [3, 7],\n",
       "       [4, 2],\n",
       "       [4, 4],\n",
       "       [4, 6],\n",
       "       [4, 7],\n",
       "       [6, 2],\n",
       "       [6, 4],\n",
       "       [6, 6],\n",
       "       [6, 7]])"
      ]
     },
     "execution_count": 11,
     "metadata": {},
     "output_type": "execute_result"
    }
   ],
   "source": [
    "points_comb = np.array(list(itertools.product(points, points2)))\n",
    "points_comb"
   ]
  },
  {
   "cell_type": "code",
   "execution_count": 12,
   "metadata": {},
   "outputs": [
    {
     "data": {
      "text/plain": [
       "array([ 5,  7,  9, 10,  6,  8, 10, 11,  8, 10, 12, 13])"
      ]
     },
     "execution_count": 12,
     "metadata": {},
     "output_type": "execute_result"
    }
   ],
   "source": [
    "points_sum = points_comb.sum(axis=1)\n",
    "points_sum"
   ]
  },
  {
   "cell_type": "markdown",
   "metadata": {},
   "source": [
    "For the third time, we're grouping the ids together in the same order. The concatenate makes the array have only two dimensions which is what we want for now."
   ]
  },
  {
   "cell_type": "code",
   "execution_count": 18,
   "metadata": {},
   "outputs": [
    {
     "data": {
      "text/plain": [
       "array([ 9, 10, 11, 12])"
      ]
     },
     "execution_count": 18,
     "metadata": {},
     "output_type": "execute_result"
    }
   ],
   "source": [
    "test_salaries = np.array([9,10,11,12])\n",
    "test_salaries"
   ]
  },
  {
   "cell_type": "markdown",
   "metadata": {},
   "source": [
    "When we run the `broadcast_to`, we can see that with the following shape, each row is a test for each salary. Keep that in mind."
   ]
  },
  {
   "cell_type": "code",
   "execution_count": 21,
   "metadata": {},
   "outputs": [
    {
     "data": {
      "text/plain": [
       "array([[ 9,  9,  9,  9,  9,  9,  9,  9,  9,  9,  9,  9],\n",
       "       [10, 10, 10, 10, 10, 10, 10, 10, 10, 10, 10, 10],\n",
       "       [11, 11, 11, 11, 11, 11, 11, 11, 11, 11, 11, 11],\n",
       "       [12, 12, 12, 12, 12, 12, 12, 12, 12, 12, 12, 12]])"
      ]
     },
     "execution_count": 21,
     "metadata": {},
     "output_type": "execute_result"
    }
   ],
   "source": [
    "test_salaries_full = np.broadcast_to(test_salaries, (cost_sum.size, test_salaries.size)).T #(cost_sum.size, test_salaries.size) ensures the correct dimensions\n",
    "test_salaries_full"
   ]
  },
  {
   "cell_type": "code",
   "execution_count": 52,
   "metadata": {},
   "outputs": [
    {
     "data": {
      "text/plain": [
       "array([[[ 0,  3,  6, 10],\n",
       "        [ 0,  3,  7, 11],\n",
       "        [ 0,  3,  8, 12],\n",
       "        [ 0,  3,  9, 13],\n",
       "        [ 1,  4,  6, 10],\n",
       "        [ 1,  4,  7, 11],\n",
       "        [ 1,  4,  8, 12],\n",
       "        [ 1,  4,  9, 13],\n",
       "        [ 2,  5,  6, 10],\n",
       "        [ 2,  5,  7, 11],\n",
       "        [ 2,  5,  8, 12],\n",
       "        [ 2,  5,  9, 13]],\n",
       "\n",
       "       [[ 0,  3,  6, 10],\n",
       "        [ 0,  3,  7, 11],\n",
       "        [ 0,  3,  8, 12],\n",
       "        [ 0,  3,  9, 13],\n",
       "        [ 1,  4,  6, 10],\n",
       "        [ 1,  4,  7, 11],\n",
       "        [ 1,  4,  8, 12],\n",
       "        [ 1,  4,  9, 13],\n",
       "        [ 2,  5,  6, 10],\n",
       "        [ 2,  5,  7, 11],\n",
       "        [ 2,  5,  8, 12],\n",
       "        [ 2,  5,  9, 13]],\n",
       "\n",
       "       [[ 0,  3,  6, 10],\n",
       "        [ 0,  3,  7, 11],\n",
       "        [ 0,  3,  8, 12],\n",
       "        [ 0,  3,  9, 13],\n",
       "        [ 1,  4,  6, 10],\n",
       "        [ 1,  4,  7, 11],\n",
       "        [ 1,  4,  8, 12],\n",
       "        [ 1,  4,  9, 13],\n",
       "        [ 2,  5,  6, 10],\n",
       "        [ 2,  5,  7, 11],\n",
       "        [ 2,  5,  8, 12],\n",
       "        [ 2,  5,  9, 13]],\n",
       "\n",
       "       [[ 0,  3,  6, 10],\n",
       "        [ 0,  3,  7, 11],\n",
       "        [ 0,  3,  8, 12],\n",
       "        [ 0,  3,  9, 13],\n",
       "        [ 1,  4,  6, 10],\n",
       "        [ 1,  4,  7, 11],\n",
       "        [ 1,  4,  8, 12],\n",
       "        [ 1,  4,  9, 13],\n",
       "        [ 2,  5,  6, 10],\n",
       "        [ 2,  5,  7, 11],\n",
       "        [ 2,  5,  8, 12],\n",
       "        [ 2,  5,  9, 13]]])"
      ]
     },
     "execution_count": 52,
     "metadata": {},
     "output_type": "execute_result"
    }
   ],
   "source": [
    "ids_comb_full = np.broadcast_to(ids_comb, (test_salaries.size, points_sum.size, 4))\n",
    "ids_comb_full"
   ]
  },
  {
   "cell_type": "code",
   "execution_count": 53,
   "metadata": {},
   "outputs": [
    {
     "data": {
      "text/plain": [
       "array([[ 7,  8, 10, 13,  9, 10, 12, 15, 11, 12, 14, 17],\n",
       "       [ 7,  8, 10, 13,  9, 10, 12, 15, 11, 12, 14, 17],\n",
       "       [ 7,  8, 10, 13,  9, 10, 12, 15, 11, 12, 14, 17],\n",
       "       [ 7,  8, 10, 13,  9, 10, 12, 15, 11, 12, 14, 17]])"
      ]
     },
     "execution_count": 53,
     "metadata": {},
     "output_type": "execute_result"
    }
   ],
   "source": [
    "cost_sum_full = np.broadcast_to(cost_sum,(test_salaries.size, cost_sum.size))\n",
    "cost_sum_full"
   ]
  },
  {
   "cell_type": "code",
   "execution_count": 54,
   "metadata": {},
   "outputs": [
    {
     "data": {
      "text/plain": [
       "array([[ 5,  7,  9, 10,  6,  8, 10, 11,  8, 10, 12, 13],\n",
       "       [ 5,  7,  9, 10,  6,  8, 10, 11,  8, 10, 12, 13],\n",
       "       [ 5,  7,  9, 10,  6,  8, 10, 11,  8, 10, 12, 13],\n",
       "       [ 5,  7,  9, 10,  6,  8, 10, 11,  8, 10, 12, 13]])"
      ]
     },
     "execution_count": 54,
     "metadata": {},
     "output_type": "execute_result"
    }
   ],
   "source": [
    "points_sum_full = np.broadcast_to(points_sum,(test_salaries.size, points_sum.size))\n",
    "points_sum_full"
   ]
  },
  {
   "cell_type": "markdown",
   "metadata": {},
   "source": [
    "At this point, note the shapes of cost_sum_full, points_sum_full, test_salaries_full, and ids_comb_full:"
   ]
  },
  {
   "cell_type": "code",
   "execution_count": 66,
   "metadata": {},
   "outputs": [
    {
     "name": "stdout",
     "output_type": "stream",
     "text": [
      "cost_sum_full:      (4, 12)\n",
      "points_sum_full:    (4, 12)\n",
      "test_salaries_full: (4, 12)\n",
      "ids_comb_full:      (4, 12, 4)\n"
     ]
    }
   ],
   "source": [
    "print(\"cost_sum_full:     \", cost_sum_full.shape)\n",
    "print(\"points_sum_full:   \", points_sum_full.shape)\n",
    "print(\"test_salaries_full:\", test_salaries_full.shape)\n",
    "print(\"ids_comb_full:     \", ids_comb_full.shape)"
   ]
  },
  {
   "cell_type": "markdown",
   "metadata": {},
   "source": [
    "The key work before was to get these deminsions to match up so we can do direct comparison. As an example, we can pick (x,y) coords as (2,4) and see that the information matches up. Remember, the reason that `ids_comb_full` has that 3rd dimension is because we're combining groups of 4 player ids."
   ]
  },
  {
   "cell_type": "code",
   "execution_count": 60,
   "metadata": {},
   "outputs": [
    {
     "name": "stdout",
     "output_type": "stream",
     "text": [
      "Indexes:  [ 1  4  6 10]\n",
      "Cost:  9\n",
      "Points:  6\n"
     ]
    }
   ],
   "source": [
    "x,y = 2,4\n",
    "print(\"Indexes: \", ids_comb_full[x][y])\n",
    "print(\"Cost: \", cost_sum_full[x][y])\n",
    "print(\"Points: \", points_sum_full[x][y])"
   ]
  },
  {
   "cell_type": "code",
   "execution_count": 25,
   "metadata": {},
   "outputs": [
    {
     "data": {
      "text/plain": [
       "array([[ True,  True, False, False,  True, False, False, False, False,\n",
       "        False, False, False],\n",
       "       [ True,  True,  True, False,  True,  True, False, False, False,\n",
       "        False, False, False],\n",
       "       [ True,  True,  True, False,  True,  True, False, False,  True,\n",
       "        False, False, False],\n",
       "       [ True,  True,  True, False,  True,  True,  True, False,  True,\n",
       "         True, False, False]])"
      ]
     },
     "execution_count": 25,
     "metadata": {},
     "output_type": "execute_result"
    }
   ],
   "source": [
    "valids = cost_sum_full <= test_salaries_full\n",
    "valids"
   ]
  },
  {
   "cell_type": "code",
   "execution_count": 26,
   "metadata": {},
   "outputs": [
    {
     "data": {
      "text/plain": [
       "array([[ 5,  7,  0,  0,  6,  0,  0,  0,  0,  0,  0,  0],\n",
       "       [ 5,  7,  9,  0,  6,  8,  0,  0,  0,  0,  0,  0],\n",
       "       [ 5,  7,  9,  0,  6,  8,  0,  0,  8,  0,  0,  0],\n",
       "       [ 5,  7,  9,  0,  6,  8, 10,  0,  8, 10,  0,  0]])"
      ]
     },
     "execution_count": 26,
     "metadata": {},
     "output_type": "execute_result"
    }
   ],
   "source": [
    "possibilities = points_sum_full * valids\n",
    "possibilities"
   ]
  },
  {
   "cell_type": "code",
   "execution_count": 27,
   "metadata": {},
   "outputs": [
    {
     "data": {
      "text/plain": [
       "array([1, 2, 2, 6])"
      ]
     },
     "execution_count": 27,
     "metadata": {},
     "output_type": "execute_result"
    }
   ],
   "source": [
    "top_inds = possibilities.argmax(axis=1)\n",
    "top_inds"
   ]
  },
  {
   "cell_type": "code",
   "execution_count": 28,
   "metadata": {},
   "outputs": [
    {
     "data": {
      "text/plain": [
       "array([0, 1, 2, 3])"
      ]
     },
     "execution_count": 28,
     "metadata": {},
     "output_type": "execute_result"
    }
   ],
   "source": [
    "row_selectors = np.arange(test_salaries.size)\n",
    "row_selectors"
   ]
  },
  {
   "cell_type": "code",
   "execution_count": 29,
   "metadata": {},
   "outputs": [
    {
     "data": {
      "text/plain": [
       "array([ 7,  9,  9, 10])"
      ]
     },
     "execution_count": 29,
     "metadata": {},
     "output_type": "execute_result"
    }
   ],
   "source": [
    "max_points = points_sum_full[row_selectors, top_inds]\n",
    "max_points"
   ]
  },
  {
   "cell_type": "code",
   "execution_count": 30,
   "metadata": {},
   "outputs": [
    {
     "data": {
      "text/plain": [
       "array([ 8, 10, 10, 12])"
      ]
     },
     "execution_count": 30,
     "metadata": {},
     "output_type": "execute_result"
    }
   ],
   "source": [
    "max_costs = cost_sum_full[row_selectors, top_inds]\n",
    "max_costs"
   ]
  },
  {
   "cell_type": "code",
   "execution_count": 31,
   "metadata": {},
   "outputs": [
    {
     "data": {
      "text/plain": [
       "array([[ 0,  3,  7, 11],\n",
       "       [ 0,  3,  8, 12],\n",
       "       [ 0,  3,  8, 12],\n",
       "       [ 1,  4,  8, 12]])"
      ]
     },
     "execution_count": 31,
     "metadata": {},
     "output_type": "execute_result"
    }
   ],
   "source": [
    "max_inds = ids_comb_full[row_selectors, top_inds]\n",
    "max_inds"
   ]
  },
  {
   "cell_type": "code",
   "execution_count": 64,
   "metadata": {},
   "outputs": [
    {
     "data": {
      "text/plain": [
       "array([ 9, 10, 11, 12])"
      ]
     },
     "execution_count": 64,
     "metadata": {},
     "output_type": "execute_result"
    }
   ],
   "source": [
    "test_salaries"
   ]
  },
  {
   "cell_type": "markdown",
   "metadata": {},
   "source": [
    "Welcome to the bottom! What we have now are three arrays: max_points, max_costs, and max_inds.\n",
    "I showed test_salaries again to remined what's going on.\n",
    "\n",
    "`test_salaries[0]` is 9, meaning that for the 0th position in the max_points, max_costs, and max_inds correlates to the best group of players whose combined salary is less than 9.\n",
    "\n",
    "Players with the indicies `[0,3,7,11]` have a combined cost of 8, and points of 7. That grouping beats everyone else."
   ]
  },
  {
   "cell_type": "markdown",
   "metadata": {},
   "source": [
    "Again, this is a tiny example, with very small amount of data. Hopefully this give a little more sense of what we're doing with the merge."
   ]
  },
  {
   "cell_type": "code",
   "execution_count": null,
   "metadata": {},
   "outputs": [],
   "source": []
  }
 ],
 "metadata": {
  "kernelspec": {
   "display_name": "Python 3",
   "language": "python",
   "name": "python3"
  },
  "language_info": {
   "codemirror_mode": {
    "name": "ipython",
    "version": 3
   },
   "file_extension": ".py",
   "mimetype": "text/x-python",
   "name": "python",
   "nbconvert_exporter": "python",
   "pygments_lexer": "ipython3",
   "version": "3.7.0"
  }
 },
 "nbformat": 4,
 "nbformat_minor": 2
}
