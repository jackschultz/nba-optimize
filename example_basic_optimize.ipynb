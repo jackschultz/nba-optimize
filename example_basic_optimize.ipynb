{
 "cells": [
  {
   "cell_type": "markdown",
   "metadata": {},
   "source": [
    "The basic optimization solution. The first lines are creating the information of the ids, points, and costs of them. They'll be zipped into a list together which is the format of the data used in the basic solution file."
   ]
  },
  {
   "cell_type": "markdown",
   "metadata": {},
   "source": [
    "When looking at the initial variables being created, the ids, costs, and points, each index referes to the information for a single group. After the values are zipped together, that's the information for a single one. For example, we don't know what players with ids 2 and 6 are, but added together, they cost 8.\n",
    "\n",
    "When finding the optimal lineup, we don't care what they cost individually, so us not having this data is totally fine!"
   ]
  },
  {
   "cell_type": "code",
   "execution_count": 1,
   "metadata": {},
   "outputs": [
    {
     "data": {
      "text/html": [
       "<div>\n",
       "<style scoped>\n",
       "    .dataframe tbody tr th:only-of-type {\n",
       "        vertical-align: middle;\n",
       "    }\n",
       "\n",
       "    .dataframe tbody tr th {\n",
       "        vertical-align: top;\n",
       "    }\n",
       "\n",
       "    .dataframe thead th {\n",
       "        text-align: right;\n",
       "    }\n",
       "</style>\n",
       "<table border=\"1\" class=\"dataframe\">\n",
       "  <thead>\n",
       "    <tr style=\"text-align: right;\">\n",
       "      <th></th>\n",
       "      <th>ids</th>\n",
       "      <th>sal</th>\n",
       "      <th>pts</th>\n",
       "      <th>pos</th>\n",
       "    </tr>\n",
       "  </thead>\n",
       "  <tbody>\n",
       "    <tr>\n",
       "      <th>0</th>\n",
       "      <td>[0, 4]</td>\n",
       "      <td>5</td>\n",
       "      <td>3</td>\n",
       "      <td>PG</td>\n",
       "    </tr>\n",
       "    <tr>\n",
       "      <th>1</th>\n",
       "      <td>[1, 5]</td>\n",
       "      <td>7</td>\n",
       "      <td>5</td>\n",
       "      <td>PG</td>\n",
       "    </tr>\n",
       "    <tr>\n",
       "      <th>2</th>\n",
       "      <td>[2, 6]</td>\n",
       "      <td>8</td>\n",
       "      <td>6</td>\n",
       "      <td>PG</td>\n",
       "    </tr>\n",
       "    <tr>\n",
       "      <th>3</th>\n",
       "      <td>[3, 7]</td>\n",
       "      <td>9</td>\n",
       "      <td>7</td>\n",
       "      <td>PG</td>\n",
       "    </tr>\n",
       "    <tr>\n",
       "      <th>4</th>\n",
       "      <td>[8, 13]</td>\n",
       "      <td>2</td>\n",
       "      <td>2</td>\n",
       "      <td>SG</td>\n",
       "    </tr>\n",
       "    <tr>\n",
       "      <th>5</th>\n",
       "      <td>[9, 14]</td>\n",
       "      <td>3</td>\n",
       "      <td>4</td>\n",
       "      <td>SG</td>\n",
       "    </tr>\n",
       "    <tr>\n",
       "      <th>6</th>\n",
       "      <td>[10, 15]</td>\n",
       "      <td>5</td>\n",
       "      <td>6</td>\n",
       "      <td>SG</td>\n",
       "    </tr>\n",
       "    <tr>\n",
       "      <th>7</th>\n",
       "      <td>[11, 16]</td>\n",
       "      <td>6</td>\n",
       "      <td>6</td>\n",
       "      <td>SG</td>\n",
       "    </tr>\n",
       "    <tr>\n",
       "      <th>8</th>\n",
       "      <td>[12, 17]</td>\n",
       "      <td>8</td>\n",
       "      <td>7</td>\n",
       "      <td>SG</td>\n",
       "    </tr>\n",
       "  </tbody>\n",
       "</table>\n",
       "</div>"
      ],
      "text/plain": [
       "        ids  sal  pts pos\n",
       "0    [0, 4]    5    3  PG\n",
       "1    [1, 5]    7    5  PG\n",
       "2    [2, 6]    8    6  PG\n",
       "3    [3, 7]    9    7  PG\n",
       "4   [8, 13]    2    2  SG\n",
       "5   [9, 14]    3    4  SG\n",
       "6  [10, 15]    5    6  SG\n",
       "7  [11, 16]    6    6  SG\n",
       "8  [12, 17]    8    7  SG"
      ]
     },
     "execution_count": 1,
     "metadata": {},
     "output_type": "execute_result"
    }
   ],
   "source": [
    "import pandas as pd\n",
    "import ast #used for conversion of the id list pandas is reading\n",
    "df = pd.read_csv('data/example_data.csv', converters={0:lambda x: ast.literal_eval(x)})\n",
    "df"
   ]
  },
  {
   "cell_type": "code",
   "execution_count": 2,
   "metadata": {},
   "outputs": [
    {
     "data": {
      "text/html": [
       "<div>\n",
       "<style scoped>\n",
       "    .dataframe tbody tr th:only-of-type {\n",
       "        vertical-align: middle;\n",
       "    }\n",
       "\n",
       "    .dataframe tbody tr th {\n",
       "        vertical-align: top;\n",
       "    }\n",
       "\n",
       "    .dataframe thead th {\n",
       "        text-align: right;\n",
       "    }\n",
       "</style>\n",
       "<table border=\"1\" class=\"dataframe\">\n",
       "  <thead>\n",
       "    <tr style=\"text-align: right;\">\n",
       "      <th></th>\n",
       "      <th>ids</th>\n",
       "      <th>sal</th>\n",
       "      <th>pts</th>\n",
       "      <th>pos</th>\n",
       "    </tr>\n",
       "  </thead>\n",
       "  <tbody>\n",
       "    <tr>\n",
       "      <th>0</th>\n",
       "      <td>[0, 4]</td>\n",
       "      <td>5</td>\n",
       "      <td>3</td>\n",
       "      <td>PG</td>\n",
       "    </tr>\n",
       "    <tr>\n",
       "      <th>1</th>\n",
       "      <td>[1, 5]</td>\n",
       "      <td>7</td>\n",
       "      <td>5</td>\n",
       "      <td>PG</td>\n",
       "    </tr>\n",
       "    <tr>\n",
       "      <th>2</th>\n",
       "      <td>[2, 6]</td>\n",
       "      <td>8</td>\n",
       "      <td>6</td>\n",
       "      <td>PG</td>\n",
       "    </tr>\n",
       "    <tr>\n",
       "      <th>3</th>\n",
       "      <td>[3, 7]</td>\n",
       "      <td>9</td>\n",
       "      <td>7</td>\n",
       "      <td>PG</td>\n",
       "    </tr>\n",
       "  </tbody>\n",
       "</table>\n",
       "</div>"
      ],
      "text/plain": [
       "      ids  sal  pts pos\n",
       "0  [0, 4]    5    3  PG\n",
       "1  [1, 5]    7    5  PG\n",
       "2  [2, 6]    8    6  PG\n",
       "3  [3, 7]    9    7  PG"
      ]
     },
     "execution_count": 2,
     "metadata": {},
     "output_type": "execute_result"
    }
   ],
   "source": [
    "pgdf = df[df.pos=='PG']\n",
    "pgdf"
   ]
  },
  {
   "cell_type": "code",
   "execution_count": 3,
   "metadata": {},
   "outputs": [
    {
     "name": "stdout",
     "output_type": "stream",
     "text": [
      "PG Ids: [[0, 4], [1, 5], [2, 6], [3, 7]]\n",
      "PG Salaries: [5, 7, 8, 9]\n",
      "PG Points: [3, 5, 6, 7]\n",
      "PG Zipped: [(5, 3, [0, 4]), (7, 5, [1, 5]), (8, 6, [2, 6]), (9, 7, [3, 7])]\n"
     ]
    }
   ],
   "source": [
    "pgids = pgdf.ids.tolist()\n",
    "pgsals = pgdf.sal.tolist()\n",
    "pgpts = pgdf.pts.tolist()\n",
    "pgs = list(zip(pgsals, pgpts, pgids))\n",
    "print(\"PG Ids:\", pgids)\n",
    "print(\"PG Salaries:\", pgsals)\n",
    "print(\"PG Points:\", pgpts)\n",
    "print(\"PG Zipped:\", pgs)"
   ]
  },
  {
   "cell_type": "code",
   "execution_count": 4,
   "metadata": {},
   "outputs": [
    {
     "data": {
      "text/html": [
       "<div>\n",
       "<style scoped>\n",
       "    .dataframe tbody tr th:only-of-type {\n",
       "        vertical-align: middle;\n",
       "    }\n",
       "\n",
       "    .dataframe tbody tr th {\n",
       "        vertical-align: top;\n",
       "    }\n",
       "\n",
       "    .dataframe thead th {\n",
       "        text-align: right;\n",
       "    }\n",
       "</style>\n",
       "<table border=\"1\" class=\"dataframe\">\n",
       "  <thead>\n",
       "    <tr style=\"text-align: right;\">\n",
       "      <th></th>\n",
       "      <th>ids</th>\n",
       "      <th>sal</th>\n",
       "      <th>pts</th>\n",
       "      <th>pos</th>\n",
       "    </tr>\n",
       "  </thead>\n",
       "  <tbody>\n",
       "    <tr>\n",
       "      <th>4</th>\n",
       "      <td>[8, 13]</td>\n",
       "      <td>2</td>\n",
       "      <td>2</td>\n",
       "      <td>SG</td>\n",
       "    </tr>\n",
       "    <tr>\n",
       "      <th>5</th>\n",
       "      <td>[9, 14]</td>\n",
       "      <td>3</td>\n",
       "      <td>4</td>\n",
       "      <td>SG</td>\n",
       "    </tr>\n",
       "    <tr>\n",
       "      <th>6</th>\n",
       "      <td>[10, 15]</td>\n",
       "      <td>5</td>\n",
       "      <td>6</td>\n",
       "      <td>SG</td>\n",
       "    </tr>\n",
       "    <tr>\n",
       "      <th>7</th>\n",
       "      <td>[11, 16]</td>\n",
       "      <td>6</td>\n",
       "      <td>6</td>\n",
       "      <td>SG</td>\n",
       "    </tr>\n",
       "    <tr>\n",
       "      <th>8</th>\n",
       "      <td>[12, 17]</td>\n",
       "      <td>8</td>\n",
       "      <td>7</td>\n",
       "      <td>SG</td>\n",
       "    </tr>\n",
       "  </tbody>\n",
       "</table>\n",
       "</div>"
      ],
      "text/plain": [
       "        ids  sal  pts pos\n",
       "4   [8, 13]    2    2  SG\n",
       "5   [9, 14]    3    4  SG\n",
       "6  [10, 15]    5    6  SG\n",
       "7  [11, 16]    6    6  SG\n",
       "8  [12, 17]    8    7  SG"
      ]
     },
     "execution_count": 4,
     "metadata": {},
     "output_type": "execute_result"
    }
   ],
   "source": [
    "sgdf = df[df.pos=='SG']\n",
    "sgdf"
   ]
  },
  {
   "cell_type": "code",
   "execution_count": 5,
   "metadata": {},
   "outputs": [
    {
     "name": "stdout",
     "output_type": "stream",
     "text": [
      "SG Ids: [[8, 13], [9, 14], [10, 15], [11, 16], [12, 17]]\n",
      "SG Salaries: [2, 3, 5, 6, 8]\n",
      "SG Points: [2, 4, 6, 6, 7]\n",
      "SG Zipped: [(2, 2, [8, 13]), (3, 4, [9, 14]), (5, 6, [10, 15]), (6, 6, [11, 16]), (8, 7, [12, 17])]\n"
     ]
    }
   ],
   "source": [
    "sgids = sgdf.ids.tolist()\n",
    "sgsals = sgdf.sal.tolist()\n",
    "sgpts = sgdf.pts.tolist()\n",
    "sgs = list(zip(sgsals, sgpts, sgids))\n",
    "print(\"SG Ids:\", sgids)\n",
    "print(\"SG Salaries:\", sgsals)\n",
    "print(\"SG Points:\", sgpts)\n",
    "print(\"SG Zipped:\", sgs)"
   ]
  },
  {
   "cell_type": "markdown",
   "metadata": {},
   "source": [
    "The variables `pos1` and `pos2` are the structures that the basic solution uses. As an example, `pos2[2]` as the example from above. It shows that with player ids 10 and 15, they have a combined salary of 5, and total points of 4."
   ]
  },
  {
   "cell_type": "code",
   "execution_count": 6,
   "metadata": {},
   "outputs": [],
   "source": [
    "test_salary = 11"
   ]
  },
  {
   "cell_type": "code",
   "execution_count": 7,
   "metadata": {},
   "outputs": [],
   "source": [
    "max_found_points = 0\n",
    "for g1 in pgs:\n",
    "    for g2 in sgs:\n",
    "        if g1[0] + g2[0] > test_salary:\n",
    "            break #assuming in sorted salary order, which they are\n",
    "        points = g1[1] + g2[1]\n",
    "        if points > max_found_points:\n",
    "            max_found_points = points\n",
    "            top_players = g1[2] + g2[2]\n",
    "            top_points = points\n",
    "            top_sal = g1[0] + g2[0]"
   ]
  },
  {
   "cell_type": "code",
   "execution_count": 8,
   "metadata": {},
   "outputs": [
    {
     "name": "stdout",
     "output_type": "stream",
     "text": [
      "Top players: [2, 6, 9, 14]\n",
      "Top points: 10\n",
      "Combined salaries: 11\n"
     ]
    }
   ],
   "source": [
    "print(\"Top players:\", top_players)\n",
    "print(\"Top points:\", top_points)\n",
    "print(\"Combined salaries:\", top_sal)"
   ]
  }
 ],
 "metadata": {
  "kernelspec": {
   "display_name": "Python 3",
   "language": "python",
   "name": "python3"
  },
  "language_info": {
   "codemirror_mode": {
    "name": "ipython",
    "version": 3
   },
   "file_extension": ".py",
   "mimetype": "text/x-python",
   "name": "python",
   "nbconvert_exporter": "python",
   "pygments_lexer": "ipython3",
   "version": "3.7.0"
  }
 },
 "nbformat": 4,
 "nbformat_minor": 2
}
